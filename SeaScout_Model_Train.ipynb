{
  "cells": [
    {
      "cell_type": "markdown",
      "metadata": {
        "id": "_WptC3ZHJHox"
      },
      "source": [
        "# Training our Object Detection Model\n",
        "Srihari Krishnaswamy, 5-24-2023\n",
        "\n",
        "This colab notebook trains our Yolov5 object detection model using our Roboflow dataset. The new model's weights are based off the Mbari Fathomnet Yolov5 model, but are fine tuned using our data.\n",
        "\n",
        "Click [here](https://colab.research.google.com/drive/1-95q51PnuaSNUZ4wnVWqrTNg4q382wAz?usp=sharing) to open this notebook in google colab"
      ]
    },
    {
      "cell_type": "markdown",
      "metadata": {
        "id": "v_PMAN7ZJ-mw"
      },
      "source": [
        "### Setup\n",
        "First, we clone the base Yolov5 repository and install the neccesary requirements:"
      ]
    },
    {
      "cell_type": "code",
      "execution_count": null,
      "metadata": {
        "id": "Ie5uLDH4uzAp",
        "vscode": {
          "languageId": "python"
        }
      },
      "outputs": [],
      "source": [
        "!git clone https://github.com/ultralytics/yolov5\n",
        "!pip install -qr yolov5/requirements.txt"
      ]
    },
    {
      "cell_type": "markdown",
      "metadata": {
        "id": "9veirhb5OB6d"
      },
      "source": [
        "### Mounting Google Drive: \n",
        "This will come in handy when downloading the newly trained model!"
      ]
    },
    {
      "cell_type": "code",
      "execution_count": null,
      "metadata": {
        "id": "cwapomfVOBDc",
        "vscode": {
          "languageId": "python"
        }
      },
      "outputs": [],
      "source": [
        "from google.colab import drive\n",
        "drive.mount('/content/drive')"
      ]
    },
    {
      "cell_type": "markdown",
      "metadata": {
        "id": "CU-ZT-7BKhSx"
      },
      "source": [
        "### Roboflow Setup\n",
        "Here, we install the dependency for Roboflow and download the dataset:"
      ]
    },
    {
      "cell_type": "code",
      "execution_count": null,
      "metadata": {
        "id": "Knxi2ncxWffW",
        "vscode": {
          "languageId": "python"
        }
      },
      "outputs": [],
      "source": [
        "!pip install -q roboflow"
      ]
    },
    {
      "cell_type": "code",
      "execution_count": null,
      "metadata": {
        "id": "LSpT13KQ7okc",
        "vscode": {
          "languageId": "python"
        }
      },
      "outputs": [],
      "source": [
        "!mkdir datasets\n",
        "!curl -L \"https://app.roboflow.com/ds/kdyV2f3IRA?key=lItXAqxaFx\" > datasets/roboflow.zip; cd datasets; unzip roboflow.zip; rm roboflow.zip; cd .."
      ]
    },
    {
      "cell_type": "markdown",
      "metadata": {
        "id": "7xo6clOnLKhc"
      },
      "source": [
        "### Declaring file paths for training:"
      ]
    },
    {
      "cell_type": "code",
      "execution_count": null,
      "metadata": {
        "id": "HEPaER7MK5ac",
        "vscode": {
          "languageId": "python"
        }
      },
      "outputs": [],
      "source": [
        "BASE_MODEL_PATH = \"/content/yolov5/mbari-mb-benthic-33k.pt\"  \n",
        "NEW_MODEL = \"model_to_train.pt\"\n",
        "NEW_MODEL_PATH = \"/content/yolov5/models/\" + NEW_MODEL"
      ]
    },
    {
      "cell_type": "markdown",
      "metadata": {
        "id": "08PJPdP0LcOT"
      },
      "source": [
        "### Downloading the base yolov5 model from which we will adjust the weights in training:"
      ]
    },
    {
      "cell_type": "code",
      "execution_count": null,
      "metadata": {
        "id": "T2d9B-no8jh4",
        "vscode": {
          "languageId": "python"
        }
      },
      "outputs": [],
      "source": [
        "!curl https://zenodo.org/record/5539915/files/mbari-mb-benthic-33k.pt?download=1 -o {BASE_MODEL_PATH}"
      ]
    },
    {
      "cell_type": "code",
      "execution_count": null,
      "metadata": {
        "id": "2jYHNfFE9ncV",
        "vscode": {
          "languageId": "python"
        }
      },
      "outputs": [],
      "source": [
        "!cp {BASE_MODEL_PATH} {NEW_MODEL_PATH}"
      ]
    },
    {
      "cell_type": "markdown",
      "metadata": {
        "id": "I3IThho_MGyG"
      },
      "source": [
        "### Setting up our yaml file with the new class information that we want to train with:"
      ]
    },
    {
      "cell_type": "code",
      "execution_count": null,
      "metadata": {
        "id": "M870Z8b0AxJU",
        "vscode": {
          "languageId": "python"
        }
      },
      "outputs": [],
      "source": [
        "relative_dataset_path = \"../datasets\"\n",
        "yaml_contents = \"\"\"train: {0}/train/images\n",
        "val: {0}/valid/images\n",
        "test: {0}/test/images\n",
        "\n",
        "nc: 9\n",
        "names: ['annelida', 'arthropoda', 'cnidaria', 'echinodermata', 'fish', 'mollusca', 'other-invertebrates', 'porifera', 'unidentified-biology']\"\"\".format(relative_dataset_path)\n",
        "\n",
        "yaml_file_name = \"ProjectDS.yaml\"\n",
        "yaml_file_path = \"yolov5/data/{}\".format(yaml_file_name)\n",
        "!touch {yaml_file_path}\n",
        "with open(yaml_file_path, 'w') as file:\n",
        "  file.write(yaml_contents)\n",
        "\n",
        "!cat {yaml_file_path}"
      ]
    },
    {
      "cell_type": "markdown",
      "metadata": {
        "id": "rFIY_zdwMSg8"
      },
      "source": [
        "### Kicking off Training! Descriptions of variables available below:"
      ]
    },
    {
      "cell_type": "code",
      "execution_count": null,
      "metadata": {
        "id": "1NcFxRcFdJ_O",
        "vscode": {
          "languageId": "python"
        }
      },
      "outputs": [],
      "source": [
        "batch_size = 48 # number of new inputs before weights are re-adjusted\n",
        "freeze = 18 #layers of the Neural Network that we want to preserve the weights of - the less the layers, the more layers of the model we apply our training algorithm to!\n",
        "image_size = 640\n",
        "weights = NEW_MODEL_PATH #the new model after training\n",
        "data = yaml_file_name #the yaml file with our data\n",
        "epochs = 12 #the number of 'cycles' we want to train \n",
        "\n",
        "# going into the yolov5 directory and training the model!\n",
        "!cd yolov5; python3 train.py --batch {batch_size} --freeze {freeze} --weights {weights} --data {data} --epochs {epochs} --cache --img {image_size}\n"
      ]
    },
    {
      "attachments": {},
      "cell_type": "markdown",
      "metadata": {
        "id": "tdyE0ZNONdfF"
      },
      "source": [
        "### Now download the newly trained model at yolov5/runs/train/exp/last.pt or yolov5/runs/train/exp/best.pt!"
      ]
    }
  ],
  "metadata": {
    "accelerator": "GPU",
    "colab": {
      "machine_shape": "hm",
      "provenance": []
    },
    "gpuClass": "standard",
    "kernelspec": {
      "display_name": "Python 3",
      "name": "python3"
    }
  },
  "nbformat": 4,
  "nbformat_minor": 0
}
